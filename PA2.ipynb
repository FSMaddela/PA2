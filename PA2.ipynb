{
 "cells": [
  {
   "cell_type": "code",
   "execution_count": 13,
   "id": "123ea236-373c-4c6c-80f3-b1b67098d005",
   "metadata": {},
   "outputs": [
    {
     "data": {
      "text/plain": [
       "array([[-0.77423826,  0.92004301, -0.16822643, -0.03850834,  0.72091744],\n",
       "       [ 0.73441113,  0.63234651, -0.85637281, -0.7466532 , -0.35133137],\n",
       "       [-0.6966055 ,  1.03357384,  0.90275081, -1.36637774, -0.06129803],\n",
       "       [-1.24377163,  1.28774623,  0.93078674,  2.38451163,  0.59808228],\n",
       "       [-1.04253563, -1.98259745, -0.98611258,  0.46698718, -0.29752786]])"
      ]
     },
     "execution_count": 13,
     "metadata": {},
     "output_type": "execute_result"
    }
   ],
   "source": [
    "#NORMALIZATION PROBLEM\n",
    "\n",
    "import numpy as np\n",
    "\n",
    "#5x5 array\n",
    "X = np.random.rand(5, 5)\n",
    "\n",
    "#Normalizing the ndarray\n",
    "X_mean = X.mean()\n",
    "X_std = X.std()\n",
    "X_normalized = (X - X_mean) / X_std\n",
    "\n",
    "np.save('X_normalized.npy', X_normalized)\n",
    "\n",
    "X_normalized"
   ]
  },
  {
   "cell_type": "code",
   "execution_count": 15,
   "id": "9979c687-0d0e-4f75-b760-7d8b7728e38e",
   "metadata": {},
   "outputs": [
    {
     "data": {
      "text/plain": [
       "array([   9,   36,   81,  144,  225,  324,  441,  576,  729,  900, 1089,\n",
       "       1296, 1521, 1764, 2025, 2304, 2601, 2916, 3249, 3600, 3969, 4356,\n",
       "       4761, 5184, 5625, 6084, 6561, 7056, 7569, 8100, 8649, 9216, 9801])"
      ]
     },
     "execution_count": 15,
     "metadata": {},
     "output_type": "execute_result"
    }
   ],
   "source": [
    "#DIVISIBLE BY 3 PROBLEM\n",
    "\n",
    "import numpy as np\n",
    "\n",
    "#Create an array containing the squares of the first 100 integers\n",
    "S = np.arange(1, 101).reshape(10, 10) ** 2\n",
    "\n",
    "#Find elements divisible by 3 using modulo equation \n",
    "div_by_3 = S[S % 3 == 0]\n",
    "\n",
    "np.save('div_by_3.npy', div_by_3)\n",
    "\n",
    "div_by_3\n"
   ]
  }
 ],
 "metadata": {
  "kernelspec": {
   "display_name": "Python 3 (ipykernel)",
   "language": "python",
   "name": "python3"
  },
  "language_info": {
   "codemirror_mode": {
    "name": "ipython",
    "version": 3
   },
   "file_extension": ".py",
   "mimetype": "text/x-python",
   "name": "python",
   "nbconvert_exporter": "python",
   "pygments_lexer": "ipython3",
   "version": "3.12.4"
  }
 },
 "nbformat": 4,
 "nbformat_minor": 5
}
